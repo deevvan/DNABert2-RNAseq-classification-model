{
 "cells": [
  {
   "cell_type": "code",
   "execution_count": 1,
   "id": "c24a89d9",
   "metadata": {},
   "outputs": [
    {
     "name": "stdout",
     "output_type": "stream",
     "text": [
      "Starting position of RBD in GISAID ref genome (with gaps): 22567\n",
      "Ending position of RBD in GISAID ref genome (with gaps): 23235\n"
     ]
    }
   ],
   "source": [
    "### Open Reading Frame for ncbi reference sequence RBD from https://www.ncbi.nlm.nih.gov/gene/1489668:\n",
    "\n",
    "################################################\n",
    "# Start sequence of RBD in NCBI: AGGGTTGTTCCCTCA\n",
    "# End sequence of RBD in NCBI: CCAGTGTGTCAATTTT\n",
    "\n",
    "# FROM MSA between GISAID ref genome and NCBI ref genome \n",
    "# Start sequence of RBD in GISAID: AGAGTCCAACCAACAG\n",
    "# End sequence of RBD in GISAID: CAAATGTGTCAATTTC\n",
    "################################################\n",
    "\n",
    "# NOTE: Since ORF indices for RBD belongs to NCBI ref genome, it needs to be converted to that for \n",
    "# GISAID ref genome since MSA file is based on that. So, to do that, the two ref genomes were aligned \n",
    "# using MUSCLE: https://www.ebi.ac.uk/Tools/msa/muscle/\n",
    "# With this MSA, and start and end sites for RBD being 22407 and 23072 in NCBI reference genome, \n",
    "# the position of these two sites were obtained from the MSA file below:\n",
    "\n",
    "def find_positions_RBD_in_GISAID_msa(msa_fasta_file):\n",
    "    with open(msa_fasta_file, \"r\") as file:\n",
    "        lines = file.readlines()\n",
    "\n",
    "    # Combine the lines to form a single sequence.\n",
    "    sequence = \"\".join([line.strip() for line in lines[1:]])  # Skip the header line.\n",
    "\n",
    "    # Initialize counters for non-gap and total characters, and positions.\n",
    "    non_gap_count = 0\n",
    "    total_count = 0\n",
    "    position_RBD_start = None\n",
    "    position_RBD_end = None\n",
    "\n",
    "    # Iterate through the sequence to find the positions and count characters.\n",
    "    for i, char in enumerate(sequence):\n",
    "        total_count += 1\n",
    "        if char != \"-\":\n",
    "            non_gap_count += 1\n",
    "            if non_gap_count == 22407:\n",
    "                position_RBD_start = i + 1  # Adjust for 1-based indexing.\n",
    "            if non_gap_count == 23072:\n",
    "                position_RBD_end = i + 1\n",
    "\n",
    "    if position_RBD_start is not None and position_RBD_end is not None:\n",
    "        print(\"Starting position of RBD in GISAID ref genome (with gaps):\", position_RBD_start)\n",
    "        print(\"Ending position of RBD in GISAID ref genome (with gaps):\", position_RBD_end)\n",
    "\n",
    "def main():\n",
    "    msa_fasta_file = \"your/path/MUSCLE_MSA_refGenomes.fasta\"  # Change this to the actual file path.\n",
    "    find_positions_RBD_in_GISAID_msa(msa_fasta_file)\n",
    "\n",
    "if __name__ == \"__main__\":\n",
    "    main()"
   ]
  },
  {
   "cell_type": "code",
   "execution_count": 6,
   "id": "10e8f581",
   "metadata": {},
   "outputs": [
    {
     "name": "stdout",
     "output_type": "stream",
     "text": [
      "Position of RBD start site in MSA between NCBI and GISAID (including gaps): 22567\n",
      "Position of RBD stop site in MSA between NCBI and GISAID (including gaps): 23235\n",
      "Position of RBD start site in GISAID  without gaps: 22517\n",
      "Position of RBD stop site in GISAID without gaps: 23185\n"
     ]
    }
   ],
   "source": [
    "## After the start and stop sites for RBD in MSA between the two ref genomes were obtained, the gap characters \n",
    "## were removed from the GISAID ref genome to identify the position of the start and stop sites of RBD below:\n",
    "\n",
    "from Bio import SeqIO\n",
    "\n",
    "def count_and_find_positions(msa_file):\n",
    "    # Read the MSA FASTA file\n",
    "    records = list(SeqIO.parse(msa_file, \"fasta\"))\n",
    "\n",
    "    # Check if the file has at least two sequences\n",
    "    if len(records) < 2:\n",
    "        print(\"Error: MSA file should contain at least two sequences.\")\n",
    "        return\n",
    "\n",
    "    # Extract the second sequence\n",
    "    sequence = str(records[1].seq)\n",
    "\n",
    "    # Count characters at positions 22567 and 23235 (including gaps)\n",
    "    count_at_22567 = sequence.count('-', 0, 22566) + sequence[0:22567].count('A') + sequence[0:22567].count('T') + sequence[0:22567].count('G') + sequence[0:22567].count('C')\n",
    "    count_at_23235 = sequence.count('-', 0, 23234) + sequence[0:23235].count('A') + sequence[0:23235].count('T') + sequence[0:23235].count('G') + sequence[0:23235].count('C')\n",
    "\n",
    "    print(f\"Position of RBD start site in MSA between NCBI and GISAID (including gaps): {count_at_22567}\")\n",
    "    print(f\"Position of RBD stop site in MSA between NCBI and GISAID (including gaps): {count_at_23235}\")\n",
    "\n",
    "    # Find the positions of characters without gaps\n",
    "    pos_22567_no_gaps = count_at_22567 - sequence[0:22567].count('-')\n",
    "    pos_23235_no_gaps = count_at_23235 - sequence[0:23235].count('-')\n",
    "\n",
    "    print(f\"Position of RBD start site in GISAID  without gaps: {pos_22567_no_gaps}\")\n",
    "    print(f\"Position of RBD stop site in GISAID without gaps: {pos_23235_no_gaps}\")\n",
    "\n",
    "if __name__ == \"__main__\":\n",
    "    # Provide the path to your MSA FASTA file\n",
    "    msa_file_path = \"your/path/MUSCLE_MSA_refGenomes.fasta\"\n",
    "    \n",
    "    count_and_find_positions(msa_file_path)\n"
   ]
  },
  {
   "cell_type": "code",
   "execution_count": null,
   "id": "bfa58377",
   "metadata": {},
   "outputs": [],
   "source": []
  },
  {
   "cell_type": "code",
   "execution_count": null,
   "id": "ae8ef9b5",
   "metadata": {},
   "outputs": [],
   "source": [
    "## RBD extraction from GISAID MSA file here onwards"
   ]
  },
  {
   "cell_type": "code",
   "execution_count": 7,
   "id": "e54afe89",
   "metadata": {},
   "outputs": [
    {
     "name": "stdout",
     "output_type": "stream",
     "text": [
      "Starting position of RBD in GISAID ref genome (with gaps): 35011\n",
      "Ending position of RBD in GISAID ref genome (with gaps): 36610\n"
     ]
    }
   ],
   "source": [
    "# Python script identifies the start and end sites for RBD in reference genome when gaps are added for the\n",
    "# GISAID MSA sequences by counting nucleotides (A,T,G or C) only and ignoring gap character in \"-\" and then \n",
    "# counting these positions after gaps are added to get the actual location for these two \n",
    "# positions when gap is present\n",
    "\n",
    "### Open Reading Frame for RBD from https://www.ncbi.nlm.nih.gov/gene/1489668:\n",
    "\n",
    "##########################################################\n",
    "\n",
    "## Start position of RBD in GISAID reference genome: 22517\n",
    "## End position of RBD in GISAID reference genome: 23187 (2 NT ADDED TO MAKE MULTIPLE OF 3)\n",
    "\n",
    "def find_positions_RBD_in_msa_fasta(msa_fasta_file):\n",
    "    with open(msa_fasta_file, \"r\") as file:\n",
    "        lines = file.readlines()\n",
    "\n",
    "    # Combine the lines to form a single sequence.\n",
    "    sequence = \"\".join([line.strip() for line in lines[1:]])  # Skip the header line.\n",
    "\n",
    "    # Initialize counters for non-gap and total characters, and positions.\n",
    "    non_gap_count = 0\n",
    "    total_count = 0\n",
    "    position_RBD_start = None\n",
    "    position_RBD_end = None\n",
    "\n",
    "    # Iterate through the sequence to find the positions and count characters.\n",
    "    for i, char in enumerate(sequence):\n",
    "        total_count += 1\n",
    "        if char != \"-\":\n",
    "            non_gap_count += 1\n",
    "            if non_gap_count == 22517:\n",
    "                position_RBD_start = i + 1  # Adjust for 1-based indexing.\n",
    "            if non_gap_count == 23187:\n",
    "                position_RBD_end = i + 1\n",
    "\n",
    "    if position_RBD_start is not None and position_RBD_end is not None:\n",
    "        print(\"Starting position of RBD in GISAID ref genome (with gaps):\", position_RBD_start)\n",
    "        print(\"Ending position of RBD in GISAID ref genome (with gaps):\", position_RBD_end)\n",
    "\n",
    "def main():\n",
    "    msa_fasta_file = \"your/path/ref_genome_MSA.fasta\"  # Change this to the actual file path.\n",
    "    find_positions_RBD_in_msa_fasta(msa_fasta_file)\n",
    "\n",
    "if __name__ == \"__main__\":\n",
    "    main()\n"
   ]
  },
  {
   "cell_type": "code",
   "execution_count": null,
   "id": "9089ecb0",
   "metadata": {},
   "outputs": [],
   "source": []
  },
  {
   "cell_type": "code",
   "execution_count": 2,
   "id": "7e2c078c",
   "metadata": {},
   "outputs": [
    {
     "name": "stderr",
     "output_type": "stream",
     "text": [
      "Processing sequences: 3321710it [2:15:18, 409.14it/s]                             "
     ]
    },
    {
     "name": "stdout",
     "output_type": "stream",
     "text": [
      "Trimmed sequences between positions 35011 and 36610 to '/mmfs1/projects/changhui.yan/DeewanB/gisaid_data/main_MSA_files/trimmed_RBD.fasta'.\n"
     ]
    },
    {
     "name": "stderr",
     "output_type": "stream",
     "text": [
      "\n"
     ]
    }
   ],
   "source": [
    "# Python script to cleave the rest of the MSA sequences at the position corresponding \n",
    "# to spike RBD sequence in reference sequence after adding the gaps:\n",
    "\n",
    "########################################################################\n",
    "# RBD Start Position (22517 in ref genome) in MSA with gaps: 35011           \n",
    "# RBD End Ending Position (23187 in ref genome) in MSA with gaps: 36610\n",
    "\n",
    "######################### WORKING SCRIPT ###############################\n",
    "\n",
    "import torch\n",
    "from tqdm import tqdm\n",
    "\n",
    "def trim_and_write_sequences(input_fasta, output_fasta, start_position, end_position):\n",
    "    # Count the number of sequences for progress tracking\n",
    "    with open(input_fasta, \"r\") as infile:\n",
    "        num_sequences = sum(1 for line in infile if line.startswith(\">\"))\n",
    "\n",
    "    with open(input_fasta, \"r\") as infile, open(output_fasta, \"w\") as outfile:\n",
    "        current_sequence = \"\"\n",
    "        current_header = \"\"\n",
    "\n",
    "        for line in tqdm(infile, total=num_sequences, desc=\"Processing sequences\"):\n",
    "            if line.startswith(\">\"):\n",
    "                # Write the previous sequence if any\n",
    "                if current_sequence:\n",
    "                    # Convert the sequence to a tensor\n",
    "                    sequence_tensor = torch.tensor([ord(c) for c in current_sequence], dtype=torch.int32, device='cuda')\n",
    "                    # Trim and replace \"-\" with \"\"\n",
    "                    trimmed_sequence_tensor = sequence_tensor[start_position - 1:end_position]\n",
    "                    trimmed_sequence = ''.join(chr(c) for c in trimmed_sequence_tensor.cpu().numpy() if chr(c) != \"-\")\n",
    "                    outfile.write(f\"{current_header}\\n{trimmed_sequence}\\n\")\n",
    "\n",
    "                # Update current header\n",
    "                current_header = line.strip()\n",
    "                current_sequence = \"\"\n",
    "            else:\n",
    "                current_sequence += line.strip()\n",
    "\n",
    "        # Write the last sequence\n",
    "        if current_sequence:\n",
    "            # Convert the sequence to a tensor\n",
    "            sequence_tensor = torch.tensor([ord(c) for c in current_sequence], dtype=torch.int32, device='cuda')\n",
    "            # Trim and replace \"-\" with \"\"\n",
    "            trimmed_sequence_tensor = sequence_tensor[start_position - 1:end_position]\n",
    "            trimmed_sequence = ''.join(chr(c) for c in trimmed_sequence_tensor.cpu().numpy() if chr(c) != \"-\")\n",
    "            outfile.write(f\"{current_header}\\n{trimmed_sequence}\\n\")\n",
    "\n",
    "    print(f\"Trimmed sequences between positions {start_position} and {end_position} to '{output_fasta}'.\")\n",
    "\n",
    "def main():\n",
    "    input_fasta = \"/mmfs1/projects/changhui.yan/DeewanB/gisaid_data/main_MSA_files/msaCodon_1024_filtered.fasta\"\n",
    "    output_fasta = \"/mmfs1/projects/changhui.yan/DeewanB/gisaid_data/main_MSA_files/msaCodon_1024_trimmed_RBD_new.fasta\"\n",
    "    start_position = 35011\n",
    "    end_position = 36610\n",
    "\n",
    "    trim_and_write_sequences(input_fasta, output_fasta, start_position, end_position)\n",
    "\n",
    "if __name__ == \"__main__\":\n",
    "    main()\n"
   ]
  },
  {
   "cell_type": "code",
   "execution_count": null,
   "id": "6b37533a",
   "metadata": {},
   "outputs": [],
   "source": []
  }
 ],
 "metadata": {
  "kernelspec": {
   "display_name": "PyTorch 2.3.0",
   "language": "python",
   "name": "pytorch"
  },
  "language_info": {
   "codemirror_mode": {
    "name": "ipython",
    "version": 3
   },
   "file_extension": ".py",
   "mimetype": "text/x-python",
   "name": "python",
   "nbconvert_exporter": "python",
   "pygments_lexer": "ipython3",
   "version": "3.12.3"
  }
 },
 "nbformat": 4,
 "nbformat_minor": 5
}
